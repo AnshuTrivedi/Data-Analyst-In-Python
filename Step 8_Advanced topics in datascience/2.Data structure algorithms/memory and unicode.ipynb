{
 "cells": [
  {
   "cell_type": "markdown",
   "metadata": {},
   "source": [
    "# 1. Introduction"
   ]
  },
  {
   "cell_type": "markdown",
   "metadata": {},
   "source": [
    "* **Computers store files on hard drives.** A hard drive allows us to save data, turn the computer off, and then access the data again later. The tech community commonly refers to hard drives as **magnetic storage**\n",
    ", because they store data on magnetic strips."
   ]
  },
  {
   "cell_type": "markdown",
   "metadata": {},
   "source": [
    "* Magnetic strips can only contain a series of two values - up and down. Our entire CSV file saves to a hard drive the same way. We can't directly write strings such as the letter a to a hard disk; **we need to convert them to a series of magnetic ups and downs first.**"
   ]
  },
  {
   "cell_type": "markdown",
   "metadata": {},
   "source": [
    "* We can do this with an `encoding system called binary`. With binary, the only valid numbers are 0 and 1. This constraint makes it easy to store binary values on a hard disk."
   ]
  },
  {
   "cell_type": "markdown",
   "metadata": {},
   "source": [
    "# 2. The Basics of Binary"
   ]
  },
  {
   "cell_type": "markdown",
   "metadata": {},
   "source": [
    "* Computers can't store values like strings or integers directly. Instead, they store information in binary, where the only valid numbers are 0 and 1. This system makes storing data on devices like hard drives possible."
   ]
  },
  {
   "cell_type": "markdown",
   "metadata": {},
   "source": [
    "* **To work with binary in Python, we need to enter it as a string.**\n",
    "eg- '101001'"
   ]
  },
  {
   "cell_type": "markdown",
   "metadata": {},
   "source": [
    "* we can convert string to a binary number with the int function.\n",
    "* We'll need to set the optional second argument, base, to 2 (binary is base two)"
   ]
  },
  {
   "cell_type": "code",
   "execution_count": 20,
   "metadata": {},
   "outputs": [
    {
     "name": "stdout",
     "output_type": "stream",
     "text": [
      "11\n",
      "0b1011\n"
     ]
    },
    {
     "data": {
      "text/plain": [
       "'0b1011'"
      ]
     },
     "execution_count": 20,
     "metadata": {},
     "output_type": "execute_result"
    }
   ],
   "source": [
    "b='1011'\n",
    "print(int(b,2))\n",
    "\n",
    "print(bin(11))\n",
    "\n",
    "bin(int(b,2))"
   ]
  },
  {
   "cell_type": "markdown",
   "metadata": {},
   "source": [
    "# 3. Binary Addition"
   ]
  },
  {
   "cell_type": "code",
   "execution_count": 21,
   "metadata": {},
   "outputs": [
    {
     "data": {
      "text/plain": [
       "'10110'"
      ]
     },
     "execution_count": 21,
     "metadata": {},
     "output_type": "execute_result"
    }
   ],
   "source": [
    "def binary_add(a, b):\n",
    "    return bin(int(a, 2) + int(b, 2))[2:]\n",
    "binary_add(\"10001\",\"101\")\n",
    "# The bin function adds \"0b\" to the beginning of a string to indicate that it contains binary values."
   ]
  },
  {
   "cell_type": "markdown",
   "metadata": {},
   "source": [
    "# 4. Converting Binary Values to Other Bases"
   ]
  },
  {
   "cell_type": "code",
   "execution_count": 18,
   "metadata": {},
   "outputs": [
    {
     "data": {
      "text/plain": [
       "138"
      ]
     },
     "execution_count": 18,
     "metadata": {},
     "output_type": "execute_result"
    }
   ],
   "source": [
    "# binary to int\n",
    "\n",
    "int(\"10001010\",2)"
   ]
  },
  {
   "cell_type": "markdown",
   "metadata": {},
   "source": [
    "# 5. Converting Characters to Binary"
   ]
  },
  {
   "cell_type": "markdown",
   "metadata": {},
   "source": [
    "**Computers store strings in binary, just like they do with integers.` First, they split them into single characters, then convert those characters to integers. Finally, they convert those integers to binary and store them.`**"
   ]
  },
  {
   "cell_type": "markdown",
   "metadata": {},
   "source": [
    "* There are `256 different ASCII symbols`, because the largest amount of storage any single ASCII character can take up is one byte."
   ]
  },
  {
   "cell_type": "markdown",
   "metadata": {},
   "source": [
    "## TODO:\n",
    "* Convert \"w\" to binary and assign the result to binary_w.\n",
    "\n",
    "* Convert \"}\" to binary and assign the result to binary_bracket."
   ]
  },
  {
   "cell_type": "code",
   "execution_count": 23,
   "metadata": {},
   "outputs": [
    {
     "data": {
      "text/plain": [
       "'0b1110111'"
      ]
     },
     "execution_count": 23,
     "metadata": {},
     "output_type": "execute_result"
    }
   ],
   "source": [
    "binary_w=bin(ord(\"w\"))\n",
    "binary_w"
   ]
  },
  {
   "cell_type": "code",
   "execution_count": 24,
   "metadata": {},
   "outputs": [
    {
     "data": {
      "text/plain": [
       "'0b1111101'"
      ]
     },
     "execution_count": 24,
     "metadata": {},
     "output_type": "execute_result"
    }
   ],
   "source": [
    "binary_bracket=bin(ord(\"}\"))\n",
    "binary_bracket"
   ]
  },
  {
   "cell_type": "markdown",
   "metadata": {},
   "source": [
    "# 6. Introduction to Unicode"
   ]
  },
  {
   "cell_type": "markdown",
   "metadata": {},
   "source": [
    "You might be wondering what happened to all of the other characters and alphabets in the world. ASCII can't handle them, because it only supports 255 characters. The tech community realized it needed a new standard, and created Unicode."
   ]
  },
  {
   "cell_type": "markdown",
   "metadata": {},
   "source": [
    "**Unicode assigns \"code points\" to characters. In Python, code points look like this:**\n",
    "\n",
    "\"\\u3232\""
   ]
  },
  {
   "cell_type": "markdown",
   "metadata": {},
   "source": [
    "* We can use an encoding system to convert these code points to binary integers. \n",
    "* The most common encoding system `for Unicode is UTF-8`.\n",
    "* This encoding tells a computer which code points are associated with which integers."
   ]
  },
  {
   "cell_type": "markdown",
   "metadata": {},
   "source": [
    "UTF-8 can encode values that are longer that one byte, which enables it to store all Unicode characters. It encodes characters using a variable number of bytes, which means that it also supports regular ASCII characters (which are one byte each)."
   ]
  },
  {
   "cell_type": "code",
   "execution_count": 29,
   "metadata": {},
   "outputs": [
    {
     "name": "stdout",
     "output_type": "stream",
     "text": [
      "⟶\n"
     ]
    }
   ],
   "source": [
    "code_point = \"\\u27f6\"\n",
    "print(code_point)"
   ]
  },
  {
   "cell_type": "code",
   "execution_count": 30,
   "metadata": {},
   "outputs": [
    {
     "data": {
      "text/plain": [
       "10230"
      ]
     },
     "execution_count": 30,
     "metadata": {},
     "output_type": "execute_result"
    }
   ],
   "source": [
    "ord(code_point)"
   ]
  },
  {
   "cell_type": "code",
   "execution_count": 31,
   "metadata": {},
   "outputs": [
    {
     "data": {
      "text/plain": [
       "'0b10011111110110'"
      ]
     },
     "execution_count": 31,
     "metadata": {},
     "output_type": "execute_result"
    }
   ],
   "source": [
    "bin(ord(code_point))"
   ]
  },
  {
   "cell_type": "markdown",
   "metadata": {},
   "source": [
    "# 7. Strings with Unicode"
   ]
  },
  {
   "cell_type": "markdown",
   "metadata": {},
   "source": [
    "* `ASCII is a subset of Unicode.` Unicode implements all of the ASCII characters, as well as the additional characters that code points allow.\n",
    "* This lets us create Unicode strings that combine both ASCII and Unicode characters.\n",
    "* By default, Python 3 uses Unicode for all strings, and encodes them with UTF-8. That means we can enter the Unicode code points or the actual characters."
   ]
  },
  {
   "cell_type": "code",
   "execution_count": 34,
   "metadata": {},
   "outputs": [
    {
     "name": "stdout",
     "output_type": "stream",
     "text": [
      "True\n"
     ]
    }
   ],
   "source": [
    "s1 = \"café\"\n",
    "# The \\u prefix means \"the next four digits are a Unicode code point\"\n",
    "# It doesn't change the value at all (the last character in the string below is \\u00e9)\n",
    "s2 = \"café\"\n",
    "\n",
    "# These strings are the same, because code points are equal to their corresponding Unicode characters.\n",
    "# \\u00e9 and é are equivalent.\n",
    "print(s1 == s2)\n",
    "s3=s1+s2\n"
   ]
  },
  {
   "cell_type": "markdown",
   "metadata": {},
   "source": [
    "# 8. The Bytes Data Type"
   ]
  },
  {
   "cell_type": "markdown",
   "metadata": {},
   "source": [
    "* Python includes a `data type called \"bytes.\"` It's similar to a string, except that it `contains encoded bytes values.`\n",
    "\n",
    "* When we create an object with a bytes type from a string, we specify an encoding system (usually UTF-8).\n",
    "* Then, we can use the .encode() method to encode the string into bytes."
   ]
  },
  {
   "cell_type": "code",
   "execution_count": 59,
   "metadata": {},
   "outputs": [
    {
     "name": "stdout",
     "output_type": "stream",
     "text": [
      "Clark Kent␦\n",
      "<class 'bytes'>\n"
     ]
    },
    {
     "data": {
      "text/plain": [
       "b'Clark Kent\\xe2\\x90\\xa6'"
      ]
     },
     "execution_count": 59,
     "metadata": {},
     "output_type": "execute_result"
    }
   ],
   "source": [
    "# We can make a string with some Unicode values\n",
    "superman = \"Clark Kent␦\"\n",
    "print(superman)\n",
    "\n",
    "# This tells Python to encode the string superman as Unicode using the UTF-8 encoding system\n",
    "# We end up with a sequence of bytes instead of a string\n",
    "superman_bytes = \"Clark Kent␦\".encode(\"utf-8\")\n",
    "print(type(superman_bytes))\n",
    "superman_bytes"
   ]
  },
  {
   "cell_type": "code",
   "execution_count": 57,
   "metadata": {},
   "outputs": [
    {
     "data": {
      "text/plain": [
       "b'anshu8,'"
      ]
     },
     "execution_count": 57,
     "metadata": {},
     "output_type": "execute_result"
    }
   ],
   "source": [
    "s=\"anshu8,\"\n",
    "b=\"anshu8,\".encode(\"utf-8\")\n",
    "b"
   ]
  },
  {
   "cell_type": "markdown",
   "metadata": {},
   "source": [
    "# 9. Introduction to HexaDecimal"
   ]
  },
  {
   "cell_type": "markdown",
   "metadata": {},
   "source": [
    "**Similar to the` \\u `prefix for a Unicode code point, `\\x` is the prefix for a hexadecimal character.**"
   ]
  },
  {
   "cell_type": "markdown",
   "metadata": {},
   "source": [
    "* Just like binary is base 2 and our normal counting system is base 10, hexadecimal is base 16. \n",
    "* The valid digits in hexadecimal are 0-9 and A-F. Here are the values corresponding to each character:\n",
    "\n",
    "  * A - 10 \n",
    "  * B - 11\n",
    "  * C - 12\n",
    "  * D - 13\n",
    "  * E - 14\n",
    "  * F - 15"
   ]
  },
  {
   "cell_type": "markdown",
   "metadata": {},
   "source": [
    "**We use hexadecimal because it represents a byte efficiently**\n",
    "* Programmers often use hexadecimal to display bytes instead of binary because it's more compact and easier to write out."
   ]
  },
  {
   "cell_type": "markdown",
   "metadata": {},
   "source": [
    "# 10. Hexadecimal Conversions"
   ]
  },
  {
   "cell_type": "markdown",
   "metadata": {},
   "source": [
    "**The \\x prefix means \"the next two digits are in hexadecimal**"
   ]
  },
  {
   "cell_type": "markdown",
   "metadata": {},
   "source": [
    "* Two hexadecimal digits equal eight binary digits, because digits can have higher values in hexadecimal (base 16). For instance, \"F\" is 15 in hexadecimal, but 1111 is 15 in binary.\n",
    "\n",
    "Because it's shorter to display, and four binary digits always equal one hexadecimal digit, programs often use hexadecimal to print out values. This is purely for convenience."
   ]
  },
  {
   "cell_type": "markdown",
   "metadata": {},
   "source": [
    "## TODO:\n",
    "Add \"2\" to \"ea\" in hexadecimal, and assign the result to hex_ea.\n",
    "\n",
    "Add \"e\" to \"f\" in hexadecimal, and assign the result to hex_ef."
   ]
  },
  {
   "cell_type": "code",
   "execution_count": 12,
   "metadata": {},
   "outputs": [
    {
     "name": "stdout",
     "output_type": "stream",
     "text": [
      "15\n"
     ]
    }
   ],
   "source": [
    "print(int(\"F\",16))"
   ]
  },
  {
   "cell_type": "code",
   "execution_count": 15,
   "metadata": {},
   "outputs": [
    {
     "data": {
      "text/plain": [
       "'0xf'"
      ]
     },
     "execution_count": 15,
     "metadata": {},
     "output_type": "execute_result"
    }
   ],
   "source": [
    "hex(15)"
   ]
  },
  {
   "cell_type": "code",
   "execution_count": 16,
   "metadata": {},
   "outputs": [
    {
     "data": {
      "text/plain": [
       "'f'"
      ]
     },
     "execution_count": 16,
     "metadata": {},
     "output_type": "execute_result"
    }
   ],
   "source": [
    "hex(15)[2:]"
   ]
  },
  {
   "cell_type": "code",
   "execution_count": 9,
   "metadata": {},
   "outputs": [],
   "source": [
    "def hex_add(a,b):\n",
    "    return hex(int(a,16)+int(b,16))[2:]"
   ]
  },
  {
   "cell_type": "code",
   "execution_count": 10,
   "metadata": {},
   "outputs": [
    {
     "data": {
      "text/plain": [
       "'ec'"
      ]
     },
     "execution_count": 10,
     "metadata": {},
     "output_type": "execute_result"
    }
   ],
   "source": [
    "hex_ea=hex_add(\"2\",\"ea\")\n",
    "hex_ea"
   ]
  },
  {
   "cell_type": "code",
   "execution_count": 11,
   "metadata": {},
   "outputs": [
    {
     "data": {
      "text/plain": [
       "'1d'"
      ]
     },
     "execution_count": 11,
     "metadata": {},
     "output_type": "execute_result"
    }
   ],
   "source": [
    "hex_ef=hex_add(\"e\",\"f\")\n",
    "hex_ef"
   ]
  },
  {
   "cell_type": "markdown",
   "metadata": {},
   "source": [
    "# 11. Hex to Binary"
   ]
  },
  {
   "cell_type": "markdown",
   "metadata": {},
   "source": [
    "## TODO\n",
    "Convert the hexadecimal byte \"\\xaa\" to binary, and assign the result to binary_aa.\n"
   ]
  },
  {
   "cell_type": "code",
   "execution_count": 23,
   "metadata": {},
   "outputs": [
    {
     "data": {
      "text/plain": [
       "'10101010'"
      ]
     },
     "execution_count": 23,
     "metadata": {},
     "output_type": "execute_result"
    }
   ],
   "source": [
    "binary_aa=bin(ord('\\xaa'))[2:]\n",
    "binary_aa"
   ]
  },
  {
   "cell_type": "code",
   "execution_count": 25,
   "metadata": {},
   "outputs": [
    {
     "data": {
      "text/plain": [
       "'10101010'"
      ]
     },
     "execution_count": 25,
     "metadata": {},
     "output_type": "execute_result"
    }
   ],
   "source": [
    "bin(int('aa',16))[2:]"
   ]
  },
  {
   "cell_type": "markdown",
   "metadata": {},
   "source": [
    "# 12. Bytes and Strings"
   ]
  },
  {
   "cell_type": "markdown",
   "metadata": {},
   "source": [
    "**There's no encoding system associated with the bytes data type. That means if we have an object with that data type, Python won't know how to display the (encoded) code points in it. For this reason, we can't mix bytes objects and strings together.**"
   ]
  },
  {
   "cell_type": "code",
   "execution_count": 27,
   "metadata": {},
   "outputs": [
    {
     "name": "stdout",
     "output_type": "stream",
     "text": [
      "TypeError with replacement\n"
     ]
    },
    {
     "data": {
      "text/plain": [
       "b'Bruce '"
      ]
     },
     "execution_count": 27,
     "metadata": {},
     "output_type": "execute_result"
    }
   ],
   "source": [
    "hulk_bytes = \"Bruce Banner␦\".encode(\"utf-8\")\n",
    "\n",
    "# We can't mix strings and bytes\n",
    "# For instance, if we try to replace the Unicode ␦ character as a string, it won't work, because that value has been encoded to bytes\n",
    "try:\n",
    "    hulk_bytes.replace(\"Banner\", \"\")\n",
    "except Exception:\n",
    "    print(\"TypeError with replacement\")\n",
    "\n",
    "# We can create objects of the bytes data type by putting a b in front of the quotation marks in a string\n",
    "hulk_bytes = b\"Bruce Banner\"\n",
    "\n",
    "# Now, instead of mixing strings and bytes, we can use the replace method with bytes objects instead\n",
    "hulk_bytes.replace(b\"Banner\", b\"\")"
   ]
  },
  {
   "cell_type": "markdown",
   "metadata": {},
   "source": [
    "### We can create objects of the bytes data type by putting a `b in front of the quotation marks in a string`"
   ]
  },
  {
   "cell_type": "markdown",
   "metadata": {},
   "source": [
    "# 13. Decode Bytes to Strings"
   ]
  },
  {
   "cell_type": "markdown",
   "metadata": {},
   "source": [
    "* Once we have a bytes object, we can decode it into a string using an encoding system.` We use the .decode() method` to do this."
   ]
  },
  {
   "cell_type": "code",
   "execution_count": 28,
   "metadata": {},
   "outputs": [
    {
     "name": "stdout",
     "output_type": "stream",
     "text": [
      "Who knows?\n",
      "<class 'str'>\n"
     ]
    }
   ],
   "source": [
    "# Make a bytes object with aquaman's secret identity\n",
    "aquaman_bytes = b\"Who knows?\"\n",
    "\n",
    "# Now, we can use the decode method, along with the encoding system (UTF-8) to turn it into a string\n",
    "aquaman = aquaman_bytes.decode(\"utf-8\")\n",
    "\n",
    "# We can print the value and type to verify that it's a string\n",
    "print(aquaman)\n",
    "print(type(aquaman))"
   ]
  },
  {
   "cell_type": "markdown",
   "metadata": {},
   "source": [
    "# 14. Read in File Data"
   ]
  },
  {
   "cell_type": "code",
   "execution_count": 29,
   "metadata": {},
   "outputs": [
    {
     "name": "stdout",
     "output_type": "stream",
     "text": [
      "1997\n",
      "The FBI information included that al-Mairi's brother \"traveled to Afghanistan in 1997-1998 to train in Bin - Ladencamps.\"\n"
     ]
    }
   ],
   "source": [
    "# We can read our data in using csvreader\n",
    "import csv\n",
    "# When we open a file, we can specify the system used to encode it (in this case, UTF-8).\n",
    "f = open(\"sentences_cia.csv\", 'r', encoding=\"utf-8\")\n",
    "csvreader = csv.reader(f)\n",
    "sentences_cia = list(csvreader)\n",
    "\n",
    "# The data consists of two columns\n",
    "# The first column contains the year, and the second contains a sentence from a CIA report written in that year\n",
    "# Print the first column of the second row\n",
    "print(sentences_cia[1][0])\n",
    "\n",
    "# Print the second column of the second row\n",
    "print(sentences_cia[1][1])\n",
    "sentences_ten=sentences_cia[9][1]"
   ]
  },
  {
   "cell_type": "markdown",
   "metadata": {},
   "source": [
    "# 15. Convert to a dataframe"
   ]
  },
  {
   "cell_type": "markdown",
   "metadata": {},
   "source": [
    "Having a dataframe will make processing and analysis much simpler because we can use the .apply() method."
   ]
  },
  {
   "cell_type": "code",
   "execution_count": 46,
   "metadata": {},
   "outputs": [
    {
     "name": "stdout",
     "output_type": "stream",
     "text": [
      "0     last_name\n",
      "1    first_name\n",
      "2      birthday\n",
      "3        gender\n",
      "4          type\n",
      "5         state\n",
      "6         party\n",
      "Name: 0, dtype: object\n",
      "last_name                 Bassett\n",
      "first_name                Richard\n",
      "birthday               1745-04-02\n",
      "gender                          M\n",
      "type                          sen\n",
      "state                          DE\n",
      "party         Anti-Administration\n",
      "Name: 0, dtype: object\n",
      "   year                                          statement      \n",
      "0  1997  The FBI information included that al-Mairi's b...      \n",
      "1  1997  The FBI information included that al-Mairi's b...      \n"
     ]
    }
   ],
   "source": [
    "import csv\n",
    "# Let's read in the legislators data from a few missions ago\n",
    "f = open(\"legislators.csv\", 'r', encoding=\"utf-8\")\n",
    "csvreader = csv.reader(f)\n",
    "legislators = list(csvreader)\n",
    "\n",
    "# Now, we can import pandas and use the DataFrame class to convert the list of lists to a dataframe.\n",
    "import pandas as pd\n",
    "\n",
    "legislators_df = pd.DataFrame(legislators)\n",
    "\n",
    "# As you can see, the first row contains the headers, which we don't want (because they're not actually data)\n",
    "print(legislators_df.iloc[0,:])\n",
    "\n",
    "# To remove the headers, we'll subset the df and pass them in separately\n",
    "# This code removes the headers from legislators, and instead passes them into the columns argument\n",
    "# The columns argument specifies column names\n",
    "legislators_df = pd.DataFrame(legislators[1:], columns=legislators[0])\n",
    "# We now have the right data in the first row, as well as the proper headers\n",
    "print(legislators_df.iloc[0,:])\n",
    "\n",
    "\n",
    "sentences_cia=pd.DataFrame(sentences_cia[1:],columns=sentences_cia[0])\n",
    "print(sentences_cia[:2])"
   ]
  },
  {
   "cell_type": "markdown",
   "metadata": {},
   "source": [
    "# 16. Clean up Sentences"
   ]
  },
  {
   "cell_type": "code",
   "execution_count": 47,
   "metadata": {},
   "outputs": [],
   "source": [
    "# The integer codes for all the characters we want to keep\n",
    "good_characters = [48, 49, 50, 51, 52, 53, 54, 55, 56, 57, 65, 66, 67, 68, 69, 70, 71, 72, 73, 74, 75, 76, 77, 78, 79, 80, 81, 82, 83, 84, 85, 86, 87, 88, 89, 90, 97, 98, 99, 100, 101, 102, 103, 104, 105, 106, 107, 108, 109, 110, 111, 112, 113, 114, 115, 116, 117, 118, 119, 120, 121, 122, 32]\n",
    "\n",
    "sentence_15 = sentences_cia[\"statement\"][14]\n",
    "\n",
    "# Iterate over the characters in the sentence, and only take those whose integer representations are in good_characters\n",
    "# This will construct a list of single characters\n",
    "cleaned_sentence_15_list = [s for s in sentence_15 if ord(s) in good_characters]\n",
    "\n",
    "# Join the list together, separated by \"\" (no space), which creates a string again\n",
    "cleaned_sentence_15 = \"\".join(cleaned_sentence_15_list)"
   ]
  },
  {
   "cell_type": "markdown",
   "metadata": {},
   "source": [
    "## TODO:\n",
    "Make a function that takes a dataframe row and then returns the clean version of the \"statement\" column.\n",
    "\n",
    "Use the .apply() method on dataframe to apply the function to each row of sentences_cia.\n",
    "\n",
    "Assign the resulting vector to the cleaned_statement column of sentences_cia."
   ]
  },
  {
   "cell_type": "markdown",
   "metadata": {},
   "source": []
  },
  {
   "cell_type": "markdown",
   "metadata": {},
   "source": [
    "## 17. Tokenize Statements"
   ]
  },
  {
   "cell_type": "markdown",
   "metadata": {},
   "source": [
    "## TODO:\n",
    "Tokenize combined_statements by splitting it into words on the spaces.\n",
    "You should end up with a list of all the words in combined_statements.\n",
    "Assign the result to statement_tokens."
   ]
  },
  {
   "cell_type": "code",
   "execution_count": null,
   "metadata": {},
   "outputs": [],
   "source": []
  }
 ],
 "metadata": {
  "kernelspec": {
   "display_name": "Python 3",
   "language": "python",
   "name": "python3"
  },
  "language_info": {
   "codemirror_mode": {
    "name": "ipython",
    "version": 3
   },
   "file_extension": ".py",
   "mimetype": "text/x-python",
   "name": "python",
   "nbconvert_exporter": "python",
   "pygments_lexer": "ipython3",
   "version": "3.7.3"
  }
 },
 "nbformat": 4,
 "nbformat_minor": 2
}
