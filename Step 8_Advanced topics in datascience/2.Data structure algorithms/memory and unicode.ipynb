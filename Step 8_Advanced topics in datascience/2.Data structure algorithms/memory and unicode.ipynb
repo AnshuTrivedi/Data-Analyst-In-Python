{
 "cells": [
  {
   "cell_type": "markdown",
   "metadata": {},
   "source": [
    "# 1. Introduction"
   ]
  },
  {
   "cell_type": "markdown",
   "metadata": {},
   "source": [
    "* **Computers store files on hard drives.** A hard drive allows us to save data, turn the computer off, and then access the data again later. The tech community commonly refers to hard drives as **magnetic storage**\n",
    ", because they store data on magnetic strips."
   ]
  },
  {
   "cell_type": "markdown",
   "metadata": {},
   "source": [
    "* Magnetic strips can only contain a series of two values - up and down. Our entire CSV file saves to a hard drive the same way. We can't directly write strings such as the letter a to a hard disk; **we need to convert them to a series of magnetic ups and downs first.**"
   ]
  },
  {
   "cell_type": "markdown",
   "metadata": {},
   "source": [
    "* We can do this with an `encoding system called binary`. With binary, the only valid numbers are 0 and 1. This constraint makes it easy to store binary values on a hard disk."
   ]
  },
  {
   "cell_type": "markdown",
   "metadata": {},
   "source": [
    "# 2. The Basics of Binary"
   ]
  },
  {
   "cell_type": "markdown",
   "metadata": {},
   "source": [
    "* Computers can't store values like strings or integers directly. Instead, they store information in binary, where the only valid numbers are 0 and 1. This system makes storing data on devices like hard drives possible."
   ]
  },
  {
   "cell_type": "markdown",
   "metadata": {},
   "source": [
    "* **To work with binary in Python, we need to enter it as a string.**\n",
    "eg- '101001'"
   ]
  },
  {
   "cell_type": "markdown",
   "metadata": {},
   "source": [
    "* we can convert string to a binary number with the int function.\n",
    "* We'll need to set the optional second argument, base, to 2 (binary is base two)"
   ]
  },
  {
   "cell_type": "code",
   "execution_count": 20,
   "metadata": {},
   "outputs": [
    {
     "name": "stdout",
     "output_type": "stream",
     "text": [
      "11\n",
      "0b1011\n"
     ]
    },
    {
     "data": {
      "text/plain": [
       "'0b1011'"
      ]
     },
     "execution_count": 20,
     "metadata": {},
     "output_type": "execute_result"
    }
   ],
   "source": [
    "b='1011'\n",
    "print(int(b,2))\n",
    "\n",
    "print(bin(11))\n",
    "\n",
    "bin(int(b,2))"
   ]
  },
  {
   "cell_type": "markdown",
   "metadata": {},
   "source": [
    "# 3. Binary Addition"
   ]
  },
  {
   "cell_type": "code",
   "execution_count": 21,
   "metadata": {},
   "outputs": [
    {
     "data": {
      "text/plain": [
       "'10110'"
      ]
     },
     "execution_count": 21,
     "metadata": {},
     "output_type": "execute_result"
    }
   ],
   "source": [
    "def binary_add(a, b):\n",
    "    return bin(int(a, 2) + int(b, 2))[2:]\n",
    "binary_add(\"10001\",\"101\")\n",
    "# The bin function adds \"0b\" to the beginning of a string to indicate that it contains binary values."
   ]
  },
  {
   "cell_type": "markdown",
   "metadata": {},
   "source": [
    "# 4. Converting Binary Values to Other Bases"
   ]
  },
  {
   "cell_type": "code",
   "execution_count": 18,
   "metadata": {},
   "outputs": [
    {
     "data": {
      "text/plain": [
       "138"
      ]
     },
     "execution_count": 18,
     "metadata": {},
     "output_type": "execute_result"
    }
   ],
   "source": [
    "# binary to int\n",
    "\n",
    "int(\"10001010\",2)"
   ]
  },
  {
   "cell_type": "markdown",
   "metadata": {},
   "source": [
    "# 5. Converting Characters to Binary"
   ]
  },
  {
   "cell_type": "markdown",
   "metadata": {},
   "source": [
    "**Computers store strings in binary, just like they do with integers.` First, they split them into single characters, then convert those characters to integers. Finally, they convert those integers to binary and store them.`**"
   ]
  },
  {
   "cell_type": "markdown",
   "metadata": {},
   "source": [
    "* There are `256 different ASCII symbols`, because the largest amount of storage any single ASCII character can take up is one byte."
   ]
  },
  {
   "cell_type": "markdown",
   "metadata": {},
   "source": [
    "## TODO:\n",
    "* Convert \"w\" to binary and assign the result to binary_w.\n",
    "\n",
    "* Convert \"}\" to binary and assign the result to binary_bracket."
   ]
  },
  {
   "cell_type": "code",
   "execution_count": 23,
   "metadata": {},
   "outputs": [
    {
     "data": {
      "text/plain": [
       "'0b1110111'"
      ]
     },
     "execution_count": 23,
     "metadata": {},
     "output_type": "execute_result"
    }
   ],
   "source": [
    "binary_w=bin(ord(\"w\"))\n",
    "binary_w"
   ]
  },
  {
   "cell_type": "code",
   "execution_count": 24,
   "metadata": {},
   "outputs": [
    {
     "data": {
      "text/plain": [
       "'0b1111101'"
      ]
     },
     "execution_count": 24,
     "metadata": {},
     "output_type": "execute_result"
    }
   ],
   "source": [
    "binary_bracket=bin(ord(\"}\"))\n",
    "binary_bracket"
   ]
  },
  {
   "cell_type": "markdown",
   "metadata": {},
   "source": [
    "# 6. Introduction to Unicode"
   ]
  },
  {
   "cell_type": "markdown",
   "metadata": {},
   "source": [
    "You might be wondering what happened to all of the other characters and alphabets in the world. ASCII can't handle them, because it only supports 255 characters. The tech community realized it needed a new standard, and created Unicode."
   ]
  },
  {
   "cell_type": "markdown",
   "metadata": {},
   "source": [
    "**Unicode assigns \"code points\" to characters. In Python, code points look like this:**\n",
    "\n",
    "\"\\u3232\""
   ]
  },
  {
   "cell_type": "markdown",
   "metadata": {},
   "source": [
    "* We can use an encoding system to convert these code points to binary integers. \n",
    "* The most common encoding system `for Unicode is UTF-8`.\n",
    "* This encoding tells a computer which code points are associated with which integers."
   ]
  },
  {
   "cell_type": "markdown",
   "metadata": {},
   "source": [
    "UTF-8 can encode values that are longer that one byte, which enables it to store all Unicode characters. It encodes characters using a variable number of bytes, which means that it also supports regular ASCII characters (which are one byte each)."
   ]
  },
  {
   "cell_type": "code",
   "execution_count": 29,
   "metadata": {},
   "outputs": [
    {
     "name": "stdout",
     "output_type": "stream",
     "text": [
      "⟶\n"
     ]
    }
   ],
   "source": [
    "code_point = \"\\u27f6\"\n",
    "print(code_point)"
   ]
  },
  {
   "cell_type": "code",
   "execution_count": 30,
   "metadata": {},
   "outputs": [
    {
     "data": {
      "text/plain": [
       "10230"
      ]
     },
     "execution_count": 30,
     "metadata": {},
     "output_type": "execute_result"
    }
   ],
   "source": [
    "ord(code_point)"
   ]
  },
  {
   "cell_type": "code",
   "execution_count": 31,
   "metadata": {},
   "outputs": [
    {
     "data": {
      "text/plain": [
       "'0b10011111110110'"
      ]
     },
     "execution_count": 31,
     "metadata": {},
     "output_type": "execute_result"
    }
   ],
   "source": [
    "bin(ord(code_point))"
   ]
  },
  {
   "cell_type": "markdown",
   "metadata": {},
   "source": [
    "# 7. Strings with Unicode"
   ]
  },
  {
   "cell_type": "markdown",
   "metadata": {},
   "source": [
    "* `ASCII is a subset of Unicode.` Unicode implements all of the ASCII characters, as well as the additional characters that code points allow.\n",
    "* This lets us create Unicode strings that combine both ASCII and Unicode characters.\n",
    "* By default, Python 3 uses Unicode for all strings, and encodes them with UTF-8. That means we can enter the Unicode code points or the actual characters."
   ]
  },
  {
   "cell_type": "code",
   "execution_count": 34,
   "metadata": {},
   "outputs": [
    {
     "name": "stdout",
     "output_type": "stream",
     "text": [
      "True\n"
     ]
    }
   ],
   "source": [
    "s1 = \"café\"\n",
    "# The \\u prefix means \"the next four digits are a Unicode code point\"\n",
    "# It doesn't change the value at all (the last character in the string below is \\u00e9)\n",
    "s2 = \"café\"\n",
    "\n",
    "# These strings are the same, because code points are equal to their corresponding Unicode characters.\n",
    "# \\u00e9 and é are equivalent.\n",
    "print(s1 == s2)\n",
    "s3=s1+s2\n"
   ]
  },
  {
   "cell_type": "markdown",
   "metadata": {},
   "source": [
    "# 8. The Bytes Data Type"
   ]
  },
  {
   "cell_type": "markdown",
   "metadata": {},
   "source": [
    "* Python includes a `data type called \"bytes.\"` It's similar to a string, except that it `contains encoded bytes values.`\n",
    "\n",
    "* When we create an object with a bytes type from a string, we specify an encoding system (usually UTF-8).\n",
    "* Then, we can use the .encode() method to encode the string into bytes."
   ]
  },
  {
   "cell_type": "code",
   "execution_count": 59,
   "metadata": {},
   "outputs": [
    {
     "name": "stdout",
     "output_type": "stream",
     "text": [
      "Clark Kent␦\n",
      "<class 'bytes'>\n"
     ]
    },
    {
     "data": {
      "text/plain": [
       "b'Clark Kent\\xe2\\x90\\xa6'"
      ]
     },
     "execution_count": 59,
     "metadata": {},
     "output_type": "execute_result"
    }
   ],
   "source": [
    "# We can make a string with some Unicode values\n",
    "superman = \"Clark Kent␦\"\n",
    "print(superman)\n",
    "\n",
    "# This tells Python to encode the string superman as Unicode using the UTF-8 encoding system\n",
    "# We end up with a sequence of bytes instead of a string\n",
    "superman_bytes = \"Clark Kent␦\".encode(\"utf-8\")\n",
    "print(type(superman_bytes))\n",
    "superman_bytes"
   ]
  },
  {
   "cell_type": "code",
   "execution_count": 57,
   "metadata": {},
   "outputs": [
    {
     "data": {
      "text/plain": [
       "b'anshu8,'"
      ]
     },
     "execution_count": 57,
     "metadata": {},
     "output_type": "execute_result"
    }
   ],
   "source": [
    "s=\"anshu8,\"\n",
    "b=\"anshu8,\".encode(\"utf-8\")\n",
    "b"
   ]
  },
  {
   "cell_type": "markdown",
   "metadata": {},
   "source": [
    "# 9. Introduction to HexaDecimal"
   ]
  },
  {
   "cell_type": "markdown",
   "metadata": {},
   "source": [
    "**Similar to the` \\u `prefix for a Unicode code point, `\\x` is the prefix for a hexadecimal character.**"
   ]
  },
  {
   "cell_type": "markdown",
   "metadata": {},
   "source": [
    "* Just like binary is base 2 and our normal counting system is base 10, hexadecimal is base 16. \n",
    "* The valid digits in hexadecimal are 0-9 and A-F. Here are the values corresponding to each character:\n",
    "\n",
    "  * A - 10 \n",
    "  * B - 11\n",
    "  * C - 12\n",
    "  * D - 13\n",
    "  * E - 14\n",
    "  * F - 15"
   ]
  },
  {
   "cell_type": "markdown",
   "metadata": {},
   "source": [
    "**We use hexadecimal because it represents a byte efficiently**\n",
    "* Programmers often use hexadecimal to display bytes instead of binary because it's more compact and easier to write out."
   ]
  },
  {
   "cell_type": "markdown",
   "metadata": {},
   "source": [
    "# 10. Hexadecimal Conversions"
   ]
  },
  {
   "cell_type": "code",
   "execution_count": null,
   "metadata": {},
   "outputs": [],
   "source": []
  }
 ],
 "metadata": {
  "kernelspec": {
   "display_name": "Python 3",
   "language": "python",
   "name": "python3"
  },
  "language_info": {
   "codemirror_mode": {
    "name": "ipython",
    "version": 3
   },
   "file_extension": ".py",
   "mimetype": "text/x-python",
   "name": "python",
   "nbconvert_exporter": "python",
   "pygments_lexer": "ipython3",
   "version": "3.7.3"
  }
 },
 "nbformat": 4,
 "nbformat_minor": 2
}
