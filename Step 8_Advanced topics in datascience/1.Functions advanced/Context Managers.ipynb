{
 "cells": [
  {
   "cell_type": "markdown",
   "metadata": {},
   "source": [
    "# 1. Introduction"
   ]
  },
  {
   "cell_type": "markdown",
   "metadata": {},
   "source": [
    "In this mission, we'll learn how to use and write context managers, a type of function that sets up a context for your code to run in, runs your code, and then removes the context"
   ]
  },
  {
   "cell_type": "markdown",
   "metadata": {},
   "source": [
    "Context managers:\n",
    "\n",
    "* Set up a context\n",
    "* Run your code\n",
    "* Remove the context"
   ]
  },
  {
   "cell_type": "markdown",
   "metadata": {},
   "source": [
    "First, the caterers set up a context for your party, which was a room full of food and drinks. Then they let you and your friends do whatever you want. This is like you being able to run your code inside the context manager's context. Finally, when the party is over, the caterers clean up and remove the context in which the party happened."
   ]
  },
  {
   "cell_type": "markdown",
   "metadata": {},
   "source": [
    "# 2. Using Context Managers"
   ]
  },
  {
   "cell_type": "markdown",
   "metadata": {},
   "source": [
    "**open() function is a context manager. open() does three things:**\n",
    "\n",
    "* Sets up a context by opening a file\n",
    "* Lets you run any code you want on that file\n",
    "* Removes the context by closing the file"
   ]
  },
  {
   "cell_type": "markdown",
   "metadata": {},
   "source": [
    "* When we write` with open()`, it opens a file that we can read from or write to. Then, it gives control back to our code, so that we can perform operations on the file object."
   ]
  },
  {
   "cell_type": "code",
   "execution_count": 3,
   "metadata": {},
   "outputs": [
    {
     "name": "stdout",
     "output_type": "stream",
     "text": [
      "The file is 11 characters long\n"
     ]
    }
   ],
   "source": [
    "with open('my_file.txt') as my_file:\n",
    "    text = my_file.read()\n",
    "    length = len(text)\n",
    "\n",
    "print('The file is {} characters long'.format(length))"
   ]
  },
  {
   "cell_type": "markdown",
   "metadata": {},
   "source": [
    "In the example above, we read the text of the file, store the contents of the file in the variable text, and store the length of the contents in the variable length. When the code inside the indented block is done, the open() function makes sure that the file is closed before continuing on in the script. The print statement is outside of the context, so by the time it runs, the file is closed."
   ]
  },
  {
   "cell_type": "code",
   "execution_count": 4,
   "metadata": {},
   "outputs": [
    {
     "name": "stdout",
     "output_type": "stream",
     "text": [
      "\n",
      "Hey Anshu\n",
      "\n"
     ]
    }
   ],
   "source": [
    "with open('my_file.txt') as my_file:\n",
    "    content=my_file.read()\n",
    "    \n",
    "print(content)"
   ]
  },
  {
   "cell_type": "markdown",
   "metadata": {},
   "source": [
    "# 3. Using Context Managers Continued"
   ]
  },
  {
   "cell_type": "markdown",
   "metadata": {},
   "source": [
    "**1.**  Any time we use a context manager, it will look like this. `The keyword with` lets Python know that we are trying to enter a context:\n",
    "\n",
    "with\n",
    "\n",
    "**2.**  Then we call a function. We can call any function that is built to work as a context manager.\n",
    "\n",
    "`with <context-manager>()`\n",
    "\n",
    "**3.**  A context manager can also take arguments like any normal function:\n",
    "\n",
    "`with <context-manager>(<args>)`\n",
    "\n",
    "**4.** We end the with statement with a colon, as if we were writing a for loop or an if statement:\n",
    "\n",
    "`with <context-manager>(<args>):`"
   ]
  },
  {
   "cell_type": "markdown",
   "metadata": {},
   "source": [
    "Statements in Python that have an indented block after them, like for loops, if/else statements, function definitions, etc. are called compound statements. The with statement is another type of compound statement. Any code that we want to run inside the context that the context manager created needs to be indented."
   ]
  },
  {
   "cell_type": "markdown",
   "metadata": {},
   "source": [
    "**Some context managers want to return a value that you can use inside the context. By adding as and a variable name at the end of the with statement, we can assign the returned value to the variable name.**"
   ]
  },
  {
   "cell_type": "code",
   "execution_count": 3,
   "metadata": {},
   "outputs": [
    {
     "data": {
      "text/plain": [
       "'\\n\\nwith <context-manager>(<args>) as <variable-name>:\\n  # Run your code here\\n  # This code is running \"inside the context\"\\n\\n# This code runs after the context is removed\\n\\n\\n'"
      ]
     },
     "execution_count": 3,
     "metadata": {},
     "output_type": "execute_result"
    }
   ],
   "source": [
    "'''\n",
    "\n",
    "with <context-manager>(<args>) as <variable-name>:\n",
    "  # Run your code here\n",
    "  # This code is running \"inside the context\"\n",
    "\n",
    "# This code runs after the context is removed\n",
    "\n",
    "\n",
    "'''"
   ]
  },
  {
   "cell_type": "markdown",
   "metadata": {},
   "source": [
    "## TODO:\n",
    "You are working on a natural language processing project to determine what makes great writers so great. Your current hypothesis is that great writers talk about cats a lot. To prove it, you want to count the number of times the word \"cat\" appears in \"Alice's Adventures in Wonderland\" by Lewis Carroll."
   ]
  },
  {
   "cell_type": "code",
   "execution_count": 10,
   "metadata": {},
   "outputs": [
    {
     "name": "stdout",
     "output_type": "stream",
     "text": [
      "Lewis Caroll uses the word \"cat\" 15 times\n"
     ]
    }
   ],
   "source": [
    "with open('alice.txt') as file:\n",
    "    text=file.read()\n",
    "    n = 0\n",
    "    for word in text.split():\n",
    "        if word.lower() in ['cat', 'cats']:\n",
    "            n += 1\n",
    "print('Lewis Caroll uses the word \"cat\" {} times'.format(n))"
   ]
  },
  {
   "cell_type": "markdown",
   "metadata": {},
   "source": [
    "# 4. Writing Context Managers"
   ]
  },
  {
   "cell_type": "markdown",
   "metadata": {},
   "source": [
    "## There are two ways to define a context manager in Python:\n",
    "\n",
    "* **By using a class that has special `__enter__()` and` __exit__()` methods**\n",
    "* **By decorating a certain kind of function**"
   ]
  },
  {
   "cell_type": "markdown",
   "metadata": {},
   "source": [
    "### There are five parts to create a context manager:\n",
    "\n",
    "* Define a function.\n",
    "* (optional) Add any setup code your context needs.\n",
    "* Use the` yield keyword `to signal to Python that this is a special kind of function.\n",
    "* (optional) Add any teardown code needed to clean up the context.\n",
    "* Add the` @contextlib.contextmanager` decorator."
   ]
  },
  {
   "cell_type": "code",
   "execution_count": 13,
   "metadata": {},
   "outputs": [
    {
     "data": {
      "text/plain": [
       "'\\n@contextlib.contextmanager\\ndef my_context():\\n  # Add any set up code you need\\n\\n  yield\\n\\n  # Add any teardown code you need\\n  \\n'"
      ]
     },
     "execution_count": 13,
     "metadata": {},
     "output_type": "execute_result"
    }
   ],
   "source": [
    "'''\n",
    "@contextlib.contextmanager\n",
    "def my_context():\n",
    "  # Add any set up code you need\n",
    "\n",
    "  yield\n",
    "\n",
    "  # Add any teardown code you need\n",
    "  \n",
    "'''"
   ]
  },
  {
   "cell_type": "markdown",
   "metadata": {},
   "source": [
    "**In the last step, we must decorate the function with the `contextmanager` decorator from the` contextlib module.`**"
   ]
  },
  {
   "cell_type": "markdown",
   "metadata": {},
   "source": [
    "* The `yield keyword` When we write this word, it means that we are going to return a value, but we expect to finish the rest of the function at some point in the future.\n",
    "\n",
    "* The value that our context manager yields can be assigned to a variable in the with statement by adding as "
   ]
  },
  {
   "cell_type": "code",
   "execution_count": 14,
   "metadata": {},
   "outputs": [
    {
     "name": "stdout",
     "output_type": "stream",
     "text": [
      "hello\n",
      "foo is 42\n",
      "goodbye\n"
     ]
    }
   ],
   "source": [
    "import contextlib \n",
    "\n",
    "@contextlib.contextmanager\n",
    "def my_context():\n",
    "    print('hello')\n",
    "\n",
    "    yield 42\n",
    "\n",
    "    print('goodbye')\n",
    "################################################################    \n",
    "    \n",
    "with my_context() as foo:\n",
    "    print('foo is {}'.format(foo))"
   ]
  },
  {
   "cell_type": "markdown",
   "metadata": {},
   "source": [
    "`Some context managers don't yield an explicit value. `For example, in_dir() below is a context manager that changes the current working directory to a specific path and then changes it back after the context block is done. It does not need to return anything with its yield statement."
   ]
  },
  {
   "cell_type": "code",
   "execution_count": 35,
   "metadata": {},
   "outputs": [
    {
     "name": "stdout",
     "output_type": "stream",
     "text": [
      "['.git', 'Datasets', 'Projects', 'README.md', 'Step 1_ Introduction to Python', 'Step 2_ Intermediate Python and Pandas', 'Step 3_ The Command Line', 'Step 4_ Working with data sources', 'Step 5_Probability and Statistics', 'Step 6_ Advanced topics in data analysis', 'Step 7_Machine learning intermediate', 'Step 8_Advanced topics in datascience']\n"
     ]
    }
   ],
   "source": [
    "import os\n",
    "\n",
    "@contextlib.contextmanager\n",
    "def in_dir(path):\n",
    "    # save current working directory\n",
    "    old_dir = os.getcwd()\n",
    "\n",
    "    # switch to new working directory\n",
    "    os.chdir(path)\n",
    "\n",
    "    yield\n",
    "\n",
    "    # change back to previous\n",
    "    # working directory\n",
    "    os.chdir(old_dir)\n",
    "    \n",
    "with in_dir('C:\\\\Users\\\\krishna\\\\Desktop\\\\Github repos\\\\Data-Analyst-In-Python'):\n",
    "    project_files = os.listdir()\n",
    "print(project_files)"
   ]
  },
  {
   "cell_type": "markdown",
   "metadata": {},
   "source": [
    "## TODO:\n",
    "A colleague of yours is working on a web service that processes images. It's taking too long to process the data, so your colleague has come to you for help. You decide to write a context manager that they can use to time how long their functions take to run.\n",
    "* Add a decorator from the contextlib module to the timer() function that will make it act like a context manager.\n",
    "* Send control from the timer() function to the context block."
   ]
  },
  {
   "cell_type": "code",
   "execution_count": 36,
   "metadata": {},
   "outputs": [
    {
     "name": "stdout",
     "output_type": "stream",
     "text": [
      "This should take approximately 0.25 seconds\n",
      "Elapsed: 0.25s\n"
     ]
    }
   ],
   "source": [
    "import time\n",
    "\n",
    "@contextlib.contextmanager\n",
    "def timer():\n",
    "    \"\"\"Time the execution of a context block.\n",
    "\n",
    "    Yields:\n",
    "      None\n",
    "    \"\"\"\n",
    "    start = time.time()\n",
    "    # Send control back to the context block\n",
    "    yield\n",
    "    end = time.time()\n",
    "    print('Elapsed: {:.2f}s'.format(end - start))\n",
    "\n",
    "with timer():\n",
    "    print('This should take approximately 0.25 seconds')\n",
    "    time.sleep(0.25)"
   ]
  },
  {
   "cell_type": "markdown",
   "metadata": {},
   "source": [
    "# 5. Writing Context Managers Continued"
   ]
  },
  {
   "cell_type": "markdown",
   "metadata": {},
   "source": [
    "* the ability for a function to yield control and know that it will get to finish running later is what makes context managers so useful"
   ]
  },
  {
   "cell_type": "code",
   "execution_count": null,
   "metadata": {},
   "outputs": [],
   "source": []
  }
 ],
 "metadata": {
  "kernelspec": {
   "display_name": "Python 3",
   "language": "python",
   "name": "python3"
  },
  "language_info": {
   "codemirror_mode": {
    "name": "ipython",
    "version": 3
   },
   "file_extension": ".py",
   "mimetype": "text/x-python",
   "name": "python",
   "nbconvert_exporter": "python",
   "pygments_lexer": "ipython3",
   "version": "3.7.3"
  }
 },
 "nbformat": 4,
 "nbformat_minor": 2
}
